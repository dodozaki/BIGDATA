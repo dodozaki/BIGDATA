{
  "nbformat": 4,
  "nbformat_minor": 0,
  "metadata": {
    "colab": {
      "name": "bigdatafinal.ipynb",
      "provenance": [],
      "collapsed_sections": []
    },
    "kernelspec": {
      "name": "python3",
      "display_name": "Python 3"
    },
    "language_info": {
      "name": "python"
    }
  },
  "cells": [
    {
      "cell_type": "code",
      "execution_count": null,
      "metadata": {
        "colab": {
          "base_uri": "https://localhost:8080/"
        },
        "id": "1K-TcBhq7vfz",
        "outputId": "43b34c51-09ee-4186-e990-30b1004a2c32"
      },
      "outputs": [
        {
          "output_type": "stream",
          "name": "stdout",
          "text": [
            "Collecting pyspark\n",
            "  Downloading pyspark-3.2.0.tar.gz (281.3 MB)\n",
            "\u001b[K     |████████████████████████████████| 281.3 MB 38 kB/s \n",
            "\u001b[?25hCollecting py4j==0.10.9.2\n",
            "  Downloading py4j-0.10.9.2-py2.py3-none-any.whl (198 kB)\n",
            "\u001b[K     |████████████████████████████████| 198 kB 51.4 MB/s \n",
            "\u001b[?25hBuilding wheels for collected packages: pyspark\n",
            "  Building wheel for pyspark (setup.py) ... \u001b[?25l\u001b[?25hdone\n",
            "  Created wheel for pyspark: filename=pyspark-3.2.0-py2.py3-none-any.whl size=281805911 sha256=0aa630082e9d47315c08cefc04f8e311d8a36263199d53d884f786a693a1f167\n",
            "  Stored in directory: /root/.cache/pip/wheels/0b/de/d2/9be5d59d7331c6c2a7c1b6d1a4f463ce107332b1ecd4e80718\n",
            "Successfully built pyspark\n",
            "Installing collected packages: py4j, pyspark\n",
            "Successfully installed py4j-0.10.9.2 pyspark-3.2.0\n"
          ]
        }
      ],
      "source": [
        "!pip install pyspark "
      ]
    },
    {
      "cell_type": "code",
      "source": [
        "pip install findspark"
      ],
      "metadata": {
        "colab": {
          "base_uri": "https://localhost:8080/"
        },
        "id": "8vurCNLG7yce",
        "outputId": "143fa9b5-2a57-45ec-ef0f-0ff47b336456"
      },
      "execution_count": null,
      "outputs": [
        {
          "output_type": "stream",
          "name": "stdout",
          "text": [
            "Collecting findspark\n",
            "  Downloading findspark-1.4.2-py2.py3-none-any.whl (4.2 kB)\n",
            "Installing collected packages: findspark\n",
            "Successfully installed findspark-1.4.2\n"
          ]
        }
      ]
    },
    {
      "cell_type": "code",
      "source": [
        "import findspark"
      ],
      "metadata": {
        "id": "zc9-uX4W7zep"
      },
      "execution_count": null,
      "outputs": []
    },
    {
      "cell_type": "code",
      "source": [
        "from pyspark.sql import SparkSession,DataFrame\n",
        "from pyspark.sql.functions import *\n",
        "from pyspark.sql.types import *\n",
        "from pyspark.sql import functions as F\n",
        "\n",
        "from pyspark.ml.classification import LogisticRegression\n",
        "from pyspark.ml.evaluation import BinaryClassificationEvaluator\n",
        "from pyspark.ml.feature import VectorAssembler\n",
        "from pyspark.ml import Pipeline, PipelineModel\n",
        "from pyspark.ml.feature import Tokenizer, CountVectorizer\n",
        "from pyspark.ml.feature import StringIndexer\n",
        "\n",
        "from pyspark.mllib.linalg import Vectors\n",
        "from pyspark.mllib.regression import LabeledPoint\n",
        "from pyspark.mllib.classification import LogisticRegressionModel\n",
        "from pyspark.mllib.evaluation import BinaryClassificationMetrics\n",
        "from pyspark.mllib.evaluation import MulticlassMetrics\n",
        "\n",
        "from pyspark.sql import SparkSession \n",
        "\n",
        "from textblob import TextBlob\n",
        "import re\n",
        "from nltk.tokenize import WordPunctTokenizer\n",
        "\n",
        "import pandas as pd\n",
        "import seaborn as sns\n",
        "import matplotlib.pyplot as plt; plt.rcdefaults()\n",
        "import numpy as np\n",
        "import os, tempfile\n",
        "import csv\n",
        "import string\n",
        "import random"
      ],
      "metadata": {
        "id": "rAe1kZGV77X2"
      },
      "execution_count": null,
      "outputs": []
    },
    {
      "cell_type": "markdown",
      "source": [
        "**importer les données**"
      ],
      "metadata": {
        "id": "ri_R4SGWqMl7"
      }
    },
    {
      "cell_type": "code",
      "source": [
        "#Load data\n",
        "from google.colab import drive\n",
        "drive.mount('/content/drive')"
      ],
      "metadata": {
        "colab": {
          "base_uri": "https://localhost:8080/"
        },
        "id": "ADaAlTmK8G6z",
        "outputId": "54cb389b-aff0-4a32-de89-820671cf641e"
      },
      "execution_count": null,
      "outputs": [
        {
          "output_type": "stream",
          "name": "stdout",
          "text": [
            "Drive already mounted at /content/drive; to attempt to forcibly remount, call drive.mount(\"/content/drive\", force_remount=True).\n"
          ]
        }
      ]
    },
    {
      "cell_type": "code",
      "source": [
        "path='/content/drive/MyDrive/Tweets_March.csv'"
      ],
      "metadata": {
        "id": "5PYhpfrJ8SCG"
      },
      "execution_count": null,
      "outputs": []
    },
    {
      "cell_type": "code",
      "source": [
        "train= pd.read_csv(path)\n",
        "train.head()"
      ],
      "metadata": {
        "colab": {
          "base_uri": "https://localhost:8080/",
          "height": 354
        },
        "id": "pAuWzFfX-Vcn",
        "outputId": "52831c1c-cb3d-4db5-bdc8-4d83b03150c7"
      },
      "execution_count": null,
      "outputs": [
        {
          "output_type": "execute_result",
          "data": {
            "text/html": [
              "\n",
              "  <div id=\"df-260917ef-b5a2-4e8e-9f98-1ab3fb331722\">\n",
              "    <div class=\"colab-df-container\">\n",
              "      <div>\n",
              "<style scoped>\n",
              "    .dataframe tbody tr th:only-of-type {\n",
              "        vertical-align: middle;\n",
              "    }\n",
              "\n",
              "    .dataframe tbody tr th {\n",
              "        vertical-align: top;\n",
              "    }\n",
              "\n",
              "    .dataframe thead th {\n",
              "        text-align: right;\n",
              "    }\n",
              "</style>\n",
              "<table border=\"1\" class=\"dataframe\">\n",
              "  <thead>\n",
              "    <tr style=\"text-align: right;\">\n",
              "      <th></th>\n",
              "      <th>Unnamed: 0</th>\n",
              "      <th>Datetime</th>\n",
              "      <th>Tweet Id</th>\n",
              "      <th>Text</th>\n",
              "      <th>Username</th>\n",
              "      <th>Like Count</th>\n",
              "      <th>Display Name</th>\n",
              "      <th>Language</th>\n",
              "    </tr>\n",
              "  </thead>\n",
              "  <tbody>\n",
              "    <tr>\n",
              "      <th>0</th>\n",
              "      <td>0</td>\n",
              "      <td>2021-02-27 23:59:59+00:00</td>\n",
              "      <td>1365813964756692993</td>\n",
              "      <td>Are you ready to roll your sleeve up for the C...</td>\n",
              "      <td>USAGov</td>\n",
              "      <td>3</td>\n",
              "      <td>USAGov</td>\n",
              "      <td>en</td>\n",
              "    </tr>\n",
              "    <tr>\n",
              "      <th>1</th>\n",
              "      <td>1</td>\n",
              "      <td>2021-02-27 23:59:59+00:00</td>\n",
              "      <td>1365813964320501767</td>\n",
              "      <td>I've been trying to tweet about Dr Yeadon, for...</td>\n",
              "      <td>seeker375</td>\n",
              "      <td>0</td>\n",
              "      <td>Matthew</td>\n",
              "      <td>en</td>\n",
              "    </tr>\n",
              "    <tr>\n",
              "      <th>2</th>\n",
              "      <td>2</td>\n",
              "      <td>2021-02-27 23:59:58+00:00</td>\n",
              "      <td>1365813962739179523</td>\n",
              "      <td>U.S. authorizes Johnson &amp;amp; Johnson’s COVID-...</td>\n",
              "      <td>The_StreetPress</td>\n",
              "      <td>0</td>\n",
              "      <td>The Street Press</td>\n",
              "      <td>en</td>\n",
              "    </tr>\n",
              "    <tr>\n",
              "      <th>3</th>\n",
              "      <td>3</td>\n",
              "      <td>2021-02-27 23:59:58+00:00</td>\n",
              "      <td>1365813959333318656</td>\n",
              "      <td>The Food and Drug Administration has authorize...</td>\n",
              "      <td>Richard31225984</td>\n",
              "      <td>0</td>\n",
              "      <td>Demosthenies MAN / MAN</td>\n",
              "      <td>en</td>\n",
              "    </tr>\n",
              "    <tr>\n",
              "      <th>4</th>\n",
              "      <td>4</td>\n",
              "      <td>2021-02-27 23:59:57+00:00</td>\n",
              "      <td>1365813958163111938</td>\n",
              "      <td>@AP There’s three COVID-19 vaccines but Flint,...</td>\n",
              "      <td>NxtLevelPromo_</td>\n",
              "      <td>36</td>\n",
              "      <td>NxtLevelPromo</td>\n",
              "      <td>en</td>\n",
              "    </tr>\n",
              "  </tbody>\n",
              "</table>\n",
              "</div>\n",
              "      <button class=\"colab-df-convert\" onclick=\"convertToInteractive('df-260917ef-b5a2-4e8e-9f98-1ab3fb331722')\"\n",
              "              title=\"Convert this dataframe to an interactive table.\"\n",
              "              style=\"display:none;\">\n",
              "        \n",
              "  <svg xmlns=\"http://www.w3.org/2000/svg\" height=\"24px\"viewBox=\"0 0 24 24\"\n",
              "       width=\"24px\">\n",
              "    <path d=\"M0 0h24v24H0V0z\" fill=\"none\"/>\n",
              "    <path d=\"M18.56 5.44l.94 2.06.94-2.06 2.06-.94-2.06-.94-.94-2.06-.94 2.06-2.06.94zm-11 1L8.5 8.5l.94-2.06 2.06-.94-2.06-.94L8.5 2.5l-.94 2.06-2.06.94zm10 10l.94 2.06.94-2.06 2.06-.94-2.06-.94-.94-2.06-.94 2.06-2.06.94z\"/><path d=\"M17.41 7.96l-1.37-1.37c-.4-.4-.92-.59-1.43-.59-.52 0-1.04.2-1.43.59L10.3 9.45l-7.72 7.72c-.78.78-.78 2.05 0 2.83L4 21.41c.39.39.9.59 1.41.59.51 0 1.02-.2 1.41-.59l7.78-7.78 2.81-2.81c.8-.78.8-2.07 0-2.86zM5.41 20L4 18.59l7.72-7.72 1.47 1.35L5.41 20z\"/>\n",
              "  </svg>\n",
              "      </button>\n",
              "      \n",
              "  <style>\n",
              "    .colab-df-container {\n",
              "      display:flex;\n",
              "      flex-wrap:wrap;\n",
              "      gap: 12px;\n",
              "    }\n",
              "\n",
              "    .colab-df-convert {\n",
              "      background-color: #E8F0FE;\n",
              "      border: none;\n",
              "      border-radius: 50%;\n",
              "      cursor: pointer;\n",
              "      display: none;\n",
              "      fill: #1967D2;\n",
              "      height: 32px;\n",
              "      padding: 0 0 0 0;\n",
              "      width: 32px;\n",
              "    }\n",
              "\n",
              "    .colab-df-convert:hover {\n",
              "      background-color: #E2EBFA;\n",
              "      box-shadow: 0px 1px 2px rgba(60, 64, 67, 0.3), 0px 1px 3px 1px rgba(60, 64, 67, 0.15);\n",
              "      fill: #174EA6;\n",
              "    }\n",
              "\n",
              "    [theme=dark] .colab-df-convert {\n",
              "      background-color: #3B4455;\n",
              "      fill: #D2E3FC;\n",
              "    }\n",
              "\n",
              "    [theme=dark] .colab-df-convert:hover {\n",
              "      background-color: #434B5C;\n",
              "      box-shadow: 0px 1px 3px 1px rgba(0, 0, 0, 0.15);\n",
              "      filter: drop-shadow(0px 1px 2px rgba(0, 0, 0, 0.3));\n",
              "      fill: #FFFFFF;\n",
              "    }\n",
              "  </style>\n",
              "\n",
              "      <script>\n",
              "        const buttonEl =\n",
              "          document.querySelector('#df-260917ef-b5a2-4e8e-9f98-1ab3fb331722 button.colab-df-convert');\n",
              "        buttonEl.style.display =\n",
              "          google.colab.kernel.accessAllowed ? 'block' : 'none';\n",
              "\n",
              "        async function convertToInteractive(key) {\n",
              "          const element = document.querySelector('#df-260917ef-b5a2-4e8e-9f98-1ab3fb331722');\n",
              "          const dataTable =\n",
              "            await google.colab.kernel.invokeFunction('convertToInteractive',\n",
              "                                                     [key], {});\n",
              "          if (!dataTable) return;\n",
              "\n",
              "          const docLinkHtml = 'Like what you see? Visit the ' +\n",
              "            '<a target=\"_blank\" href=https://colab.research.google.com/notebooks/data_table.ipynb>data table notebook</a>'\n",
              "            + ' to learn more about interactive tables.';\n",
              "          element.innerHTML = '';\n",
              "          dataTable['output_type'] = 'display_data';\n",
              "          await google.colab.output.renderOutput(dataTable, element);\n",
              "          const docLink = document.createElement('div');\n",
              "          docLink.innerHTML = docLinkHtml;\n",
              "          element.appendChild(docLink);\n",
              "        }\n",
              "      </script>\n",
              "    </div>\n",
              "  </div>\n",
              "  "
            ],
            "text/plain": [
              "   Unnamed: 0                   Datetime  ...            Display Name Language\n",
              "0           0  2021-02-27 23:59:59+00:00  ...                  USAGov       en\n",
              "1           1  2021-02-27 23:59:59+00:00  ...                 Matthew       en\n",
              "2           2  2021-02-27 23:59:58+00:00  ...        The Street Press       en\n",
              "3           3  2021-02-27 23:59:58+00:00  ...  Demosthenies MAN / MAN       en\n",
              "4           4  2021-02-27 23:59:57+00:00  ...           NxtLevelPromo       en\n",
              "\n",
              "[5 rows x 8 columns]"
            ]
          },
          "metadata": {},
          "execution_count": 21
        }
      ]
    },
    {
      "cell_type": "code",
      "source": [
        " train.drop(7,0,inplace=True)"
      ],
      "metadata": {
        "id": "hs8ejeVgr6N4"
      },
      "execution_count": null,
      "outputs": []
    },
    {
      "cell_type": "markdown",
      "source": [
        "**nettoyage des données**"
      ],
      "metadata": {
        "id": "VfUNhPrS9mlx"
      }
    },
    {
      "cell_type": "code",
      "source": [
        "import nltk\n",
        "nltk.download('wordnet')\n",
        "nltk.download('punkt')\n",
        "\n",
        "#supprimer les valeurs manquantes\n",
        "train.dropna(axis=0,inplace=True) \n",
        "\n",
        "#features selection\n",
        "train = pd.DataFrame(train[['Tweet Id', 'Text']])\n",
        "\n",
        "#w=[a-zA-Z0-9_]\n",
        "train['content'] = train['Text'].map(lambda x: re.sub(r'\\W+', ' ', x)) #supprimer les hashtags\n",
        "train['content'] = train['Text'].replace(r'\\W+', ' ', regex=True) #représenter le texte par des expressions régulières\n",
        "\n",
        "#Contraction\n",
        "contraction = {'cause':'because',\n",
        "              'aint': 'am not',\n",
        "              'aren\\'t': 'are not'}\n",
        "def mapping_replacer(x,dic):\n",
        "    for words in dic.keys():\n",
        "        if ' ' + words + ' ' in x:\n",
        "            x=x.replace(' '+ words +' ' ,' '+dic[words]+' ' )\n",
        "    return x\n",
        "\n",
        "#Racine, lemmatisation et tokenisation \n",
        "from nltk.tokenize import word_tokenize #renvoie en fait les syllabes d'un seul mot.\n",
        "from nltk.stem.wordnet import WordNetLemmatizer\n",
        "from nltk.stem.lancaster import LancasterStemmer\n",
        "\n",
        "#La différence entre la radicalisation et la lemmatisation est que la radicalisation est plus rapide car elle coupe \n",
        "#les mots sans connaître le contexte, tandis que la lemmatisation est plus lente car elle connaît le contexte des mots avant le traitement. \n",
        "\n",
        "nltk.LancasterStemmer\n",
        "ls = LancasterStemmer()\n",
        "lem = WordNetLemmatizer()\n",
        "\n",
        "def lexicon_normalization(text):\n",
        "    words = word_tokenize(text)  \n",
        "    # 1- Stemming (radicalisme )\n",
        "    words_stem = [ls.stem(w) for w in words] \n",
        "    # 2- Lemmatization\n",
        "    words_lem = [lem.lemmatize(w) for w in words_stem]\n",
        "    return words_lem \n",
        "\n",
        "#Suppression des liens, crochets, chiffres, ponctuations, etc. \n",
        "def clean_text(text):\n",
        "    '''Make text lowercase, remove text in square brackets,remove links,remove punctuation\n",
        "    and remove words containing numbers.'''\n",
        "    text = str(text).lower() #make text lowercase\n",
        "    text = re.sub('\\[.*?\\]', '', text) #remove square brackets\n",
        "    text = re.sub('https?://\\S+|www\\.\\S+', '', text) #remove https www links\n",
        "    text = re.sub(r\"http\\S+\", \"\",text) #remove http links\n",
        "    text = re.sub(r'bit.ly/\\S+', '', text)  # remove bitly links\n",
        "    text = re.sub('<.*?>+', '', text) #remove ponctuation\n",
        "    text = re.sub('[%s]' % re.escape(string.punctuation), '', text)\n",
        "    text = re.sub('\\n', '', text) #le retour à la ligne\n",
        "    text = re.sub('\\w*\\d\\w*', '', text) \n",
        "    text = re.sub('\\'','', text)\n",
        "    return text \n",
        "\n",
        "#remove stopwords\n",
        "from collections import Counter\n",
        "from nltk.corpus import stopwords\n",
        "\n",
        "nltk.download('stopwords')\n",
        "def remove_stopword(text):\n",
        "    stop_words = stopwords.words('english')\n",
        "    stopwords_dict = Counter(stop_words)\n",
        "    text = ' '.join([word for word in text.split() if word not in stopwords_dict])\n",
        "    return text\n",
        "\n",
        "train['content']=train['content'].apply(lambda x: mapping_replacer(x, contraction))\n",
        "train['content'] = train['content'].apply(lambda x:clean_text(x))\n",
        "train['content']=train['content'].apply(lambda x: remove_stopword(x))\n",
        "train['content']=train['content'].apply(lambda x: lexicon_normalization(x))\n",
        "train.head()"
      ],
      "metadata": {
        "colab": {
          "base_uri": "https://localhost:8080/",
          "height": 310
        },
        "id": "U9ZkrM4E-aDq",
        "outputId": "0960b921-b677-467e-acb4-283056ac7aa2"
      },
      "execution_count": null,
      "outputs": [
        {
          "output_type": "stream",
          "name": "stdout",
          "text": [
            "[nltk_data] Downloading package wordnet to /root/nltk_data...\n",
            "[nltk_data]   Package wordnet is already up-to-date!\n",
            "[nltk_data] Downloading package punkt to /root/nltk_data...\n",
            "[nltk_data]   Package punkt is already up-to-date!\n",
            "[nltk_data] Downloading package stopwords to /root/nltk_data...\n",
            "[nltk_data]   Package stopwords is already up-to-date!\n"
          ]
        },
        {
          "output_type": "execute_result",
          "data": {
            "text/html": [
              "\n",
              "  <div id=\"df-efee5328-4cc3-4568-8a9a-c30242594285\">\n",
              "    <div class=\"colab-df-container\">\n",
              "      <div>\n",
              "<style scoped>\n",
              "    .dataframe tbody tr th:only-of-type {\n",
              "        vertical-align: middle;\n",
              "    }\n",
              "\n",
              "    .dataframe tbody tr th {\n",
              "        vertical-align: top;\n",
              "    }\n",
              "\n",
              "    .dataframe thead th {\n",
              "        text-align: right;\n",
              "    }\n",
              "</style>\n",
              "<table border=\"1\" class=\"dataframe\">\n",
              "  <thead>\n",
              "    <tr style=\"text-align: right;\">\n",
              "      <th></th>\n",
              "      <th>Tweet Id</th>\n",
              "      <th>Text</th>\n",
              "      <th>content</th>\n",
              "    </tr>\n",
              "  </thead>\n",
              "  <tbody>\n",
              "    <tr>\n",
              "      <th>0</th>\n",
              "      <td>1365813964756692993</td>\n",
              "      <td>Are you ready to roll your sleeve up for the C...</td>\n",
              "      <td>[ready, rol, sleev, covid, vaccin, stat, reg, ...</td>\n",
              "    </tr>\n",
              "    <tr>\n",
              "      <th>1</th>\n",
              "      <td>1365813964320501767</td>\n",
              "      <td>I've been trying to tweet about Dr Yeadon, for...</td>\n",
              "      <td>[try, tweet, dr, yeadon, long, tim, day, allow...</td>\n",
              "    </tr>\n",
              "    <tr>\n",
              "      <th>2</th>\n",
              "      <td>1365813962739179523</td>\n",
              "      <td>U.S. authorizes Johnson &amp;amp; Johnson’s COVID-...</td>\n",
              "      <td>[u, auth, johnson, amp, johnson, covid, vaccin...</td>\n",
              "    </tr>\n",
              "    <tr>\n",
              "      <th>3</th>\n",
              "      <td>1365813959333318656</td>\n",
              "      <td>The Food and Drug Administration has authorize...</td>\n",
              "      <td>[food, drug, admin, auth, johnson, amp, johnso...</td>\n",
              "    </tr>\n",
              "    <tr>\n",
              "      <th>4</th>\n",
              "      <td>1365813958163111938</td>\n",
              "      <td>@AP There’s three COVID-19 vaccines but Flint,...</td>\n",
              "      <td>[ap, three, covid, vaccin, flint, michig, stil...</td>\n",
              "    </tr>\n",
              "  </tbody>\n",
              "</table>\n",
              "</div>\n",
              "      <button class=\"colab-df-convert\" onclick=\"convertToInteractive('df-efee5328-4cc3-4568-8a9a-c30242594285')\"\n",
              "              title=\"Convert this dataframe to an interactive table.\"\n",
              "              style=\"display:none;\">\n",
              "        \n",
              "  <svg xmlns=\"http://www.w3.org/2000/svg\" height=\"24px\"viewBox=\"0 0 24 24\"\n",
              "       width=\"24px\">\n",
              "    <path d=\"M0 0h24v24H0V0z\" fill=\"none\"/>\n",
              "    <path d=\"M18.56 5.44l.94 2.06.94-2.06 2.06-.94-2.06-.94-.94-2.06-.94 2.06-2.06.94zm-11 1L8.5 8.5l.94-2.06 2.06-.94-2.06-.94L8.5 2.5l-.94 2.06-2.06.94zm10 10l.94 2.06.94-2.06 2.06-.94-2.06-.94-.94-2.06-.94 2.06-2.06.94z\"/><path d=\"M17.41 7.96l-1.37-1.37c-.4-.4-.92-.59-1.43-.59-.52 0-1.04.2-1.43.59L10.3 9.45l-7.72 7.72c-.78.78-.78 2.05 0 2.83L4 21.41c.39.39.9.59 1.41.59.51 0 1.02-.2 1.41-.59l7.78-7.78 2.81-2.81c.8-.78.8-2.07 0-2.86zM5.41 20L4 18.59l7.72-7.72 1.47 1.35L5.41 20z\"/>\n",
              "  </svg>\n",
              "      </button>\n",
              "      \n",
              "  <style>\n",
              "    .colab-df-container {\n",
              "      display:flex;\n",
              "      flex-wrap:wrap;\n",
              "      gap: 12px;\n",
              "    }\n",
              "\n",
              "    .colab-df-convert {\n",
              "      background-color: #E8F0FE;\n",
              "      border: none;\n",
              "      border-radius: 50%;\n",
              "      cursor: pointer;\n",
              "      display: none;\n",
              "      fill: #1967D2;\n",
              "      height: 32px;\n",
              "      padding: 0 0 0 0;\n",
              "      width: 32px;\n",
              "    }\n",
              "\n",
              "    .colab-df-convert:hover {\n",
              "      background-color: #E2EBFA;\n",
              "      box-shadow: 0px 1px 2px rgba(60, 64, 67, 0.3), 0px 1px 3px 1px rgba(60, 64, 67, 0.15);\n",
              "      fill: #174EA6;\n",
              "    }\n",
              "\n",
              "    [theme=dark] .colab-df-convert {\n",
              "      background-color: #3B4455;\n",
              "      fill: #D2E3FC;\n",
              "    }\n",
              "\n",
              "    [theme=dark] .colab-df-convert:hover {\n",
              "      background-color: #434B5C;\n",
              "      box-shadow: 0px 1px 3px 1px rgba(0, 0, 0, 0.15);\n",
              "      filter: drop-shadow(0px 1px 2px rgba(0, 0, 0, 0.3));\n",
              "      fill: #FFFFFF;\n",
              "    }\n",
              "  </style>\n",
              "\n",
              "      <script>\n",
              "        const buttonEl =\n",
              "          document.querySelector('#df-efee5328-4cc3-4568-8a9a-c30242594285 button.colab-df-convert');\n",
              "        buttonEl.style.display =\n",
              "          google.colab.kernel.accessAllowed ? 'block' : 'none';\n",
              "\n",
              "        async function convertToInteractive(key) {\n",
              "          const element = document.querySelector('#df-efee5328-4cc3-4568-8a9a-c30242594285');\n",
              "          const dataTable =\n",
              "            await google.colab.kernel.invokeFunction('convertToInteractive',\n",
              "                                                     [key], {});\n",
              "          if (!dataTable) return;\n",
              "\n",
              "          const docLinkHtml = 'Like what you see? Visit the ' +\n",
              "            '<a target=\"_blank\" href=https://colab.research.google.com/notebooks/data_table.ipynb>data table notebook</a>'\n",
              "            + ' to learn more about interactive tables.';\n",
              "          element.innerHTML = '';\n",
              "          dataTable['output_type'] = 'display_data';\n",
              "          await google.colab.output.renderOutput(dataTable, element);\n",
              "          const docLink = document.createElement('div');\n",
              "          docLink.innerHTML = docLinkHtml;\n",
              "          element.appendChild(docLink);\n",
              "        }\n",
              "      </script>\n",
              "    </div>\n",
              "  </div>\n",
              "  "
            ],
            "text/plain": [
              "              Tweet Id  ...                                            content\n",
              "0  1365813964756692993  ...  [ready, rol, sleev, covid, vaccin, stat, reg, ...\n",
              "1  1365813964320501767  ...  [try, tweet, dr, yeadon, long, tim, day, allow...\n",
              "2  1365813962739179523  ...  [u, auth, johnson, amp, johnson, covid, vaccin...\n",
              "3  1365813959333318656  ...  [food, drug, admin, auth, johnson, amp, johnso...\n",
              "4  1365813958163111938  ...  [ap, three, covid, vaccin, flint, michig, stil...\n",
              "\n",
              "[5 rows x 3 columns]"
            ]
          },
          "metadata": {},
          "execution_count": 23
        }
      ]
    },
    {
      "cell_type": "markdown",
      "source": [
        "**Trouver les mots les plus courants**"
      ],
      "metadata": {
        "id": "Mb9LPHCLaoWH"
      }
    },
    {
      "cell_type": "code",
      "source": [
        "top = Counter([item for sublist in train['content'] for item in sublist])\n",
        "temp = pd.DataFrame(top.most_common(20))\n",
        "temp.columns = ['Common_words','count']\n",
        "temp.style.background_gradient(cmap='Blues')"
      ],
      "metadata": {
        "colab": {
          "base_uri": "https://localhost:8080/",
          "height": 677
        },
        "id": "mKMK2oEBaFVx",
        "outputId": "87d1639e-45fc-4b9e-9520-23188d2950a5"
      },
      "execution_count": null,
      "outputs": [
        {
          "output_type": "execute_result",
          "data": {
            "text/html": [
              "<style  type=\"text/css\" >\n",
              "#T_c9f514be_7393_11ec_aa96_0242ac1c0002row0_col1{\n",
              "            background-color:  #08306b;\n",
              "            color:  #f1f1f1;\n",
              "        }#T_c9f514be_7393_11ec_aa96_0242ac1c0002row1_col1{\n",
              "            background-color:  #0c56a0;\n",
              "            color:  #f1f1f1;\n",
              "        }#T_c9f514be_7393_11ec_aa96_0242ac1c0002row2_col1{\n",
              "            background-color:  #4b98ca;\n",
              "            color:  #000000;\n",
              "        }#T_c9f514be_7393_11ec_aa96_0242ac1c0002row3_col1{\n",
              "            background-color:  #d0e2f2;\n",
              "            color:  #000000;\n",
              "        }#T_c9f514be_7393_11ec_aa96_0242ac1c0002row4_col1{\n",
              "            background-color:  #d9e7f5;\n",
              "            color:  #000000;\n",
              "        }#T_c9f514be_7393_11ec_aa96_0242ac1c0002row5_col1{\n",
              "            background-color:  #dae8f6;\n",
              "            color:  #000000;\n",
              "        }#T_c9f514be_7393_11ec_aa96_0242ac1c0002row6_col1{\n",
              "            background-color:  #dce9f6;\n",
              "            color:  #000000;\n",
              "        }#T_c9f514be_7393_11ec_aa96_0242ac1c0002row7_col1{\n",
              "            background-color:  #dfebf7;\n",
              "            color:  #000000;\n",
              "        }#T_c9f514be_7393_11ec_aa96_0242ac1c0002row8_col1{\n",
              "            background-color:  #ebf3fb;\n",
              "            color:  #000000;\n",
              "        }#T_c9f514be_7393_11ec_aa96_0242ac1c0002row9_col1{\n",
              "            background-color:  #eff6fc;\n",
              "            color:  #000000;\n",
              "        }#T_c9f514be_7393_11ec_aa96_0242ac1c0002row10_col1{\n",
              "            background-color:  #f0f6fd;\n",
              "            color:  #000000;\n",
              "        }#T_c9f514be_7393_11ec_aa96_0242ac1c0002row11_col1{\n",
              "            background-color:  #f2f8fd;\n",
              "            color:  #000000;\n",
              "        }#T_c9f514be_7393_11ec_aa96_0242ac1c0002row12_col1,#T_c9f514be_7393_11ec_aa96_0242ac1c0002row13_col1{\n",
              "            background-color:  #f3f8fe;\n",
              "            color:  #000000;\n",
              "        }#T_c9f514be_7393_11ec_aa96_0242ac1c0002row14_col1,#T_c9f514be_7393_11ec_aa96_0242ac1c0002row15_col1,#T_c9f514be_7393_11ec_aa96_0242ac1c0002row16_col1,#T_c9f514be_7393_11ec_aa96_0242ac1c0002row17_col1,#T_c9f514be_7393_11ec_aa96_0242ac1c0002row18_col1{\n",
              "            background-color:  #f6faff;\n",
              "            color:  #000000;\n",
              "        }#T_c9f514be_7393_11ec_aa96_0242ac1c0002row19_col1{\n",
              "            background-color:  #f7fbff;\n",
              "            color:  #000000;\n",
              "        }</style><table id=\"T_c9f514be_7393_11ec_aa96_0242ac1c0002\" class=\"dataframe\"><thead>    <tr>        <th class=\"blank level0\" ></th>        <th class=\"col_heading level0 col0\" >Common_words</th>        <th class=\"col_heading level0 col1\" >count</th>    </tr></thead><tbody>\n",
              "                <tr>\n",
              "                        <th id=\"T_c9f514be_7393_11ec_aa96_0242ac1c0002level0_row0\" class=\"row_heading level0 row0\" >0</th>\n",
              "                        <td id=\"T_c9f514be_7393_11ec_aa96_0242ac1c0002row0_col0\" class=\"data row0 col0\" >vaccin</td>\n",
              "                        <td id=\"T_c9f514be_7393_11ec_aa96_0242ac1c0002row0_col1\" class=\"data row0 col1\" >11887</td>\n",
              "            </tr>\n",
              "            <tr>\n",
              "                        <th id=\"T_c9f514be_7393_11ec_aa96_0242ac1c0002level0_row1\" class=\"row_heading level0 row1\" >1</th>\n",
              "                        <td id=\"T_c9f514be_7393_11ec_aa96_0242ac1c0002row1_col0\" class=\"data row1 col0\" >covid</td>\n",
              "                        <td id=\"T_c9f514be_7393_11ec_aa96_0242ac1c0002row1_col1\" class=\"data row1 col1\" >10237</td>\n",
              "            </tr>\n",
              "            <tr>\n",
              "                        <th id=\"T_c9f514be_7393_11ec_aa96_0242ac1c0002level0_row2\" class=\"row_heading level0 row2\" >2</th>\n",
              "                        <td id=\"T_c9f514be_7393_11ec_aa96_0242ac1c0002row2_col0\" class=\"data row2 col0\" >co</td>\n",
              "                        <td id=\"T_c9f514be_7393_11ec_aa96_0242ac1c0002row2_col1\" class=\"data row2 col1\" >7343</td>\n",
              "            </tr>\n",
              "            <tr>\n",
              "                        <th id=\"T_c9f514be_7393_11ec_aa96_0242ac1c0002level0_row3\" class=\"row_heading level0 row3\" >3</th>\n",
              "                        <td id=\"T_c9f514be_7393_11ec_aa96_0242ac1c0002row3_col0\" class=\"data row3 col0\" >johnson</td>\n",
              "                        <td id=\"T_c9f514be_7393_11ec_aa96_0242ac1c0002row3_col1\" class=\"data row3 col1\" >2877</td>\n",
              "            </tr>\n",
              "            <tr>\n",
              "                        <th id=\"T_c9f514be_7393_11ec_aa96_0242ac1c0002level0_row4\" class=\"row_heading level0 row4\" >4</th>\n",
              "                        <td id=\"T_c9f514be_7393_11ec_aa96_0242ac1c0002row4_col0\" class=\"data row4 col0\" >amp</td>\n",
              "                        <td id=\"T_c9f514be_7393_11ec_aa96_0242ac1c0002row4_col1\" class=\"data row4 col1\" >2351</td>\n",
              "            </tr>\n",
              "            <tr>\n",
              "                        <th id=\"T_c9f514be_7393_11ec_aa96_0242ac1c0002level0_row5\" class=\"row_heading level0 row5\" >5</th>\n",
              "                        <td id=\"T_c9f514be_7393_11ec_aa96_0242ac1c0002row5_col0\" class=\"data row5 col0\" >u</td>\n",
              "                        <td id=\"T_c9f514be_7393_11ec_aa96_0242ac1c0002row5_col1\" class=\"data row5 col1\" >2281</td>\n",
              "            </tr>\n",
              "            <tr>\n",
              "                        <th id=\"T_c9f514be_7393_11ec_aa96_0242ac1c0002level0_row6\" class=\"row_heading level0 row6\" >6</th>\n",
              "                        <td id=\"T_c9f514be_7393_11ec_aa96_0242ac1c0002row6_col0\" class=\"data row6 col0\" >get</td>\n",
              "                        <td id=\"T_c9f514be_7393_11ec_aa96_0242ac1c0002row6_col1\" class=\"data row6 col1\" >2207</td>\n",
              "            </tr>\n",
              "            <tr>\n",
              "                        <th id=\"T_c9f514be_7393_11ec_aa96_0242ac1c0002level0_row7\" class=\"row_heading level0 row7\" >7</th>\n",
              "                        <td id=\"T_c9f514be_7393_11ec_aa96_0242ac1c0002row7_col0\" class=\"data row7 col0\" >do</td>\n",
              "                        <td id=\"T_c9f514be_7393_11ec_aa96_0242ac1c0002row7_col1\" class=\"data row7 col1\" >2002</td>\n",
              "            </tr>\n",
              "            <tr>\n",
              "                        <th id=\"T_c9f514be_7393_11ec_aa96_0242ac1c0002level0_row8\" class=\"row_heading level0 row8\" >8</th>\n",
              "                        <td id=\"T_c9f514be_7393_11ec_aa96_0242ac1c0002row8_col0\" class=\"data row8 col0\" >shot</td>\n",
              "                        <td id=\"T_c9f514be_7393_11ec_aa96_0242ac1c0002row8_col1\" class=\"data row8 col1\" >1309</td>\n",
              "            </tr>\n",
              "            <tr>\n",
              "                        <th id=\"T_c9f514be_7393_11ec_aa96_0242ac1c0002level0_row9\" class=\"row_heading level0 row9\" >9</th>\n",
              "                        <td id=\"T_c9f514be_7393_11ec_aa96_0242ac1c0002row9_col0\" class=\"data row9 col0\" >fda</td>\n",
              "                        <td id=\"T_c9f514be_7393_11ec_aa96_0242ac1c0002row9_col1\" class=\"data row9 col1\" >1089</td>\n",
              "            </tr>\n",
              "            <tr>\n",
              "                        <th id=\"T_c9f514be_7393_11ec_aa96_0242ac1c0002level0_row10\" class=\"row_heading level0 row10\" >10</th>\n",
              "                        <td id=\"T_c9f514be_7393_11ec_aa96_0242ac1c0002row10_col0\" class=\"data row10 col0\" >peopl</td>\n",
              "                        <td id=\"T_c9f514be_7393_11ec_aa96_0242ac1c0002row10_col1\" class=\"data row10 col1\" >1074</td>\n",
              "            </tr>\n",
              "            <tr>\n",
              "                        <th id=\"T_c9f514be_7393_11ec_aa96_0242ac1c0002level0_row11\" class=\"row_heading level0 row11\" >11</th>\n",
              "                        <td id=\"T_c9f514be_7393_11ec_aa96_0242ac1c0002row11_col0\" class=\"data row11 col0\" >on</td>\n",
              "                        <td id=\"T_c9f514be_7393_11ec_aa96_0242ac1c0002row11_col1\" class=\"data row11 col1\" >919</td>\n",
              "            </tr>\n",
              "            <tr>\n",
              "                        <th id=\"T_c9f514be_7393_11ec_aa96_0242ac1c0002level0_row12\" class=\"row_heading level0 row12\" >12</th>\n",
              "                        <td id=\"T_c9f514be_7393_11ec_aa96_0242ac1c0002row12_col0\" class=\"data row12 col0\" >new</td>\n",
              "                        <td id=\"T_c9f514be_7393_11ec_aa96_0242ac1c0002row12_col1\" class=\"data row12 col1\" >888</td>\n",
              "            </tr>\n",
              "            <tr>\n",
              "                        <th id=\"T_c9f514be_7393_11ec_aa96_0242ac1c0002level0_row13\" class=\"row_heading level0 row13\" >13</th>\n",
              "                        <td id=\"T_c9f514be_7393_11ec_aa96_0242ac1c0002row13_col0\" class=\"data row13 col0\" >auth</td>\n",
              "                        <td id=\"T_c9f514be_7393_11ec_aa96_0242ac1c0002row13_col1\" class=\"data row13 col1\" >887</td>\n",
              "            </tr>\n",
              "            <tr>\n",
              "                        <th id=\"T_c9f514be_7393_11ec_aa96_0242ac1c0002level0_row14\" class=\"row_heading level0 row14\" >14</th>\n",
              "                        <td id=\"T_c9f514be_7393_11ec_aa96_0242ac1c0002row14_col0\" class=\"data row14 col0\" >emerg</td>\n",
              "                        <td id=\"T_c9f514be_7393_11ec_aa96_0242ac1c0002row14_col1\" class=\"data row14 col1\" >712</td>\n",
              "            </tr>\n",
              "            <tr>\n",
              "                        <th id=\"T_c9f514be_7393_11ec_aa96_0242ac1c0002level0_row15\" class=\"row_heading level0 row15\" >15</th>\n",
              "                        <td id=\"T_c9f514be_7393_11ec_aa96_0242ac1c0002row15_col0\" class=\"data row15 col0\" >first</td>\n",
              "                        <td id=\"T_c9f514be_7393_11ec_aa96_0242ac1c0002row15_col1\" class=\"data row15 col1\" >709</td>\n",
              "            </tr>\n",
              "            <tr>\n",
              "                        <th id=\"T_c9f514be_7393_11ec_aa96_0242ac1c0002level0_row16\" class=\"row_heading level0 row16\" >16</th>\n",
              "                        <td id=\"T_c9f514be_7393_11ec_aa96_0242ac1c0002row16_col0\" class=\"data row16 col0\" >work</td>\n",
              "                        <td id=\"T_c9f514be_7393_11ec_aa96_0242ac1c0002row16_col1\" class=\"data row16 col1\" >690</td>\n",
              "            </tr>\n",
              "            <tr>\n",
              "                        <th id=\"T_c9f514be_7393_11ec_aa96_0242ac1c0002level0_row17\" class=\"row_heading level0 row17\" >17</th>\n",
              "                        <td id=\"T_c9f514be_7393_11ec_aa96_0242ac1c0002row17_col0\" class=\"data row17 col0\" >j</td>\n",
              "                        <td id=\"T_c9f514be_7393_11ec_aa96_0242ac1c0002row17_col1\" class=\"data row17 col1\" >680</td>\n",
              "            </tr>\n",
              "            <tr>\n",
              "                        <th id=\"T_c9f514be_7393_11ec_aa96_0242ac1c0002level0_row18\" class=\"row_heading level0 row18\" >18</th>\n",
              "                        <td id=\"T_c9f514be_7393_11ec_aa96_0242ac1c0002row18_col0\" class=\"data row18 col0\" >singl</td>\n",
              "                        <td id=\"T_c9f514be_7393_11ec_aa96_0242ac1c0002row18_col1\" class=\"data row18 col1\" >680</td>\n",
              "            </tr>\n",
              "            <tr>\n",
              "                        <th id=\"T_c9f514be_7393_11ec_aa96_0242ac1c0002level0_row19\" class=\"row_heading level0 row19\" >19</th>\n",
              "                        <td id=\"T_c9f514be_7393_11ec_aa96_0242ac1c0002row19_col0\" class=\"data row19 col0\" >giv</td>\n",
              "                        <td id=\"T_c9f514be_7393_11ec_aa96_0242ac1c0002row19_col1\" class=\"data row19 col1\" >636</td>\n",
              "            </tr>\n",
              "    </tbody></table>"
            ],
            "text/plain": [
              "<pandas.io.formats.style.Styler at 0x7efc79b9be90>"
            ]
          },
          "metadata": {},
          "execution_count": 53
        }
      ]
    },
    {
      "cell_type": "markdown",
      "source": [
        "**analyse des sentiments**"
      ],
      "metadata": {
        "id": "n2pJqT-ohf-i"
      }
    },
    {
      "cell_type": "code",
      "source": [
        "#Textblob to analysis the polarity and subjectivity\n",
        "\n",
        "def get_tweet_sentiment(tweet): \n",
        "\n",
        "    # create TextBlob object of passed tweet text \n",
        "    analysis = TextBlob(tweet) \n",
        "    \n",
        "    # set sentiment \n",
        "    if analysis.sentiment.polarity > 0:\n",
        "        return 1\n",
        "    elif analysis.sentiment.polarity == 0: \n",
        "        return 0\n",
        "    else: \n",
        "        return -1"
      ],
      "metadata": {
        "id": "g_Tbqv7s-ojw"
      },
      "execution_count": null,
      "outputs": []
    },
    {
      "cell_type": "code",
      "source": [
        "train['sentiment']=train['content'].apply(lambda x: get_tweet_sentiment(' '.join(x)))"
      ],
      "metadata": {
        "id": "4ySDCHx2-tp_"
      },
      "execution_count": null,
      "outputs": []
    },
    {
      "cell_type": "code",
      "source": [
        "Positive_sent = train[train['sentiment']==1]\n",
        "Negative_sent = train[train['sentiment']==0]\n",
        "Neutral_sent = train[train['sentiment']==-1]\n",
        "\n",
        "print('Number of tweets with positive sentiment', Positive_sent['sentiment'].count())\n",
        "print('Number of tweets with negative sentiment', Negative_sent['sentiment'].count())\n",
        "print('Number of tweets with neutral sentiment', Neutral_sent['sentiment'].count())"
      ],
      "metadata": {
        "colab": {
          "base_uri": "https://localhost:8080/"
        },
        "id": "ujI9NAy3-uVL",
        "outputId": "b81bdb0c-ddbd-48b0-cd33-caf2cc10a20e"
      },
      "execution_count": null,
      "outputs": [
        {
          "output_type": "stream",
          "name": "stdout",
          "text": [
            "Number of tweets with positive sentiment 3597\n",
            "Number of tweets with negative sentiment 4916\n",
            "Number of tweets with neutral sentiment 1487\n"
          ]
        }
      ]
    },
    {
      "cell_type": "markdown",
      "source": [
        "**la visualisation**"
      ],
      "metadata": {
        "id": "Lad86aG_1mwM"
      }
    },
    {
      "cell_type": "code",
      "source": [
        "!pip install plotly\n",
        "import matplotlib.pyplot as plt\n",
        "import plotly.express as px\n",
        "import plotly.graph_objs as go\n",
        "import plotly.offline as pyo\n",
        "from plotly.subplots import make_subplots\n",
        "\n",
        "temp = train.groupby('sentiment').count()['content'].reset_index().sort_values(by='content',ascending=False)\n",
        "temp.style.background_gradient(cmap='Purples')"
      ],
      "metadata": {
        "colab": {
          "base_uri": "https://localhost:8080/",
          "height": 196
        },
        "id": "W-QjAs6N1gm3",
        "outputId": "3b35ee89-b83e-4d90-c415-9779420cabed"
      },
      "execution_count": null,
      "outputs": [
        {
          "output_type": "stream",
          "name": "stdout",
          "text": [
            "Requirement already satisfied: plotly in /usr/local/lib/python3.7/dist-packages (4.4.1)\n",
            "Requirement already satisfied: retrying>=1.3.3 in /usr/local/lib/python3.7/dist-packages (from plotly) (1.3.3)\n",
            "Requirement already satisfied: six in /usr/local/lib/python3.7/dist-packages (from plotly) (1.15.0)\n"
          ]
        },
        {
          "output_type": "execute_result",
          "data": {
            "text/html": [
              "<style  type=\"text/css\" >\n",
              "#T_f11c1ac6_738c_11ec_aa96_0242ac1c0002row0_col0{\n",
              "            background-color:  #9e9ac8;\n",
              "            color:  #000000;\n",
              "        }#T_f11c1ac6_738c_11ec_aa96_0242ac1c0002row0_col1,#T_f11c1ac6_738c_11ec_aa96_0242ac1c0002row1_col0{\n",
              "            background-color:  #3f007d;\n",
              "            color:  #f1f1f1;\n",
              "        }#T_f11c1ac6_738c_11ec_aa96_0242ac1c0002row1_col1{\n",
              "            background-color:  #827fbb;\n",
              "            color:  #000000;\n",
              "        }#T_f11c1ac6_738c_11ec_aa96_0242ac1c0002row2_col0,#T_f11c1ac6_738c_11ec_aa96_0242ac1c0002row2_col1{\n",
              "            background-color:  #fcfbfd;\n",
              "            color:  #000000;\n",
              "        }</style><table id=\"T_f11c1ac6_738c_11ec_aa96_0242ac1c0002\" class=\"dataframe\"><thead>    <tr>        <th class=\"blank level0\" ></th>        <th class=\"col_heading level0 col0\" >sentiment</th>        <th class=\"col_heading level0 col1\" >content</th>    </tr></thead><tbody>\n",
              "                <tr>\n",
              "                        <th id=\"T_f11c1ac6_738c_11ec_aa96_0242ac1c0002level0_row0\" class=\"row_heading level0 row0\" >1</th>\n",
              "                        <td id=\"T_f11c1ac6_738c_11ec_aa96_0242ac1c0002row0_col0\" class=\"data row0 col0\" >0</td>\n",
              "                        <td id=\"T_f11c1ac6_738c_11ec_aa96_0242ac1c0002row0_col1\" class=\"data row0 col1\" >4916</td>\n",
              "            </tr>\n",
              "            <tr>\n",
              "                        <th id=\"T_f11c1ac6_738c_11ec_aa96_0242ac1c0002level0_row1\" class=\"row_heading level0 row1\" >2</th>\n",
              "                        <td id=\"T_f11c1ac6_738c_11ec_aa96_0242ac1c0002row1_col0\" class=\"data row1 col0\" >1</td>\n",
              "                        <td id=\"T_f11c1ac6_738c_11ec_aa96_0242ac1c0002row1_col1\" class=\"data row1 col1\" >3597</td>\n",
              "            </tr>\n",
              "            <tr>\n",
              "                        <th id=\"T_f11c1ac6_738c_11ec_aa96_0242ac1c0002level0_row2\" class=\"row_heading level0 row2\" >0</th>\n",
              "                        <td id=\"T_f11c1ac6_738c_11ec_aa96_0242ac1c0002row2_col0\" class=\"data row2 col0\" >-1</td>\n",
              "                        <td id=\"T_f11c1ac6_738c_11ec_aa96_0242ac1c0002row2_col1\" class=\"data row2 col1\" >1487</td>\n",
              "            </tr>\n",
              "    </tbody></table>"
            ],
            "text/plain": [
              "<pandas.io.formats.style.Styler at 0x7efc7ef1f690>"
            ]
          },
          "metadata": {},
          "execution_count": 27
        }
      ]
    },
    {
      "cell_type": "code",
      "source": [
        "#positive,negative and neutral tweet\n",
        "plt.figure(figsize=(12,6))\n",
        "sns.countplot(x='sentiment',data=train)\n",
        "fig = go.Figure(go.Funnelarea(\n",
        "    text =temp.sentiment,\n",
        "    values = temp.content,\n",
        "    title = {\"position\": \"top center\", \"text\": \"Funnel-Chart of Sentiment Distribution\"}\n",
        "    ))\n",
        "fig.show()"
      ],
      "metadata": {
        "colab": {
          "base_uri": "https://localhost:8080/",
          "height": 1000
        },
        "id": "oqeyqgpo1xar",
        "outputId": "f134721f-8e23-477d-ad96-75ea01ef2251"
      },
      "execution_count": null,
      "outputs": [
        {
          "output_type": "display_data",
          "data": {
            "text/html": [
              "<html>\n",
              "<head><meta charset=\"utf-8\" /></head>\n",
              "<body>\n",
              "    <div>\n",
              "            <script src=\"https://cdnjs.cloudflare.com/ajax/libs/mathjax/2.7.5/MathJax.js?config=TeX-AMS-MML_SVG\"></script><script type=\"text/javascript\">if (window.MathJax) {MathJax.Hub.Config({SVG: {font: \"STIX-Web\"}});}</script>\n",
              "                <script type=\"text/javascript\">window.PlotlyConfig = {MathJaxConfig: 'local'};</script>\n",
              "        <script src=\"https://cdn.plot.ly/plotly-latest.min.js\"></script>    \n",
              "            <div id=\"dd8dc7d0-8394-4807-b139-07e05bd6d2e3\" class=\"plotly-graph-div\" style=\"height:525px; width:100%;\"></div>\n",
              "            <script type=\"text/javascript\">\n",
              "                \n",
              "                    window.PLOTLYENV=window.PLOTLYENV || {};\n",
              "                    \n",
              "                if (document.getElementById(\"dd8dc7d0-8394-4807-b139-07e05bd6d2e3\")) {\n",
              "                    Plotly.newPlot(\n",
              "                        'dd8dc7d0-8394-4807-b139-07e05bd6d2e3',\n",
              "                        [{\"text\": [0, 1, -1], \"title\": {\"position\": \"top center\", \"text\": \"Funnel-Chart of Sentiment Distribution\"}, \"type\": \"funnelarea\", \"values\": [4916, 3597, 1487]}],\n",
              "                        {\"template\": {\"data\": {\"bar\": [{\"error_x\": {\"color\": \"#2a3f5f\"}, \"error_y\": {\"color\": \"#2a3f5f\"}, \"marker\": {\"line\": {\"color\": \"#E5ECF6\", \"width\": 0.5}}, \"type\": \"bar\"}], \"barpolar\": [{\"marker\": {\"line\": {\"color\": \"#E5ECF6\", \"width\": 0.5}}, \"type\": \"barpolar\"}], \"carpet\": [{\"aaxis\": {\"endlinecolor\": \"#2a3f5f\", \"gridcolor\": \"white\", \"linecolor\": \"white\", \"minorgridcolor\": \"white\", \"startlinecolor\": \"#2a3f5f\"}, \"baxis\": {\"endlinecolor\": \"#2a3f5f\", \"gridcolor\": \"white\", \"linecolor\": \"white\", \"minorgridcolor\": \"white\", \"startlinecolor\": \"#2a3f5f\"}, \"type\": \"carpet\"}], \"choropleth\": [{\"colorbar\": {\"outlinewidth\": 0, \"ticks\": \"\"}, \"type\": \"choropleth\"}], \"contour\": [{\"colorbar\": {\"outlinewidth\": 0, \"ticks\": \"\"}, \"colorscale\": [[0.0, \"#0d0887\"], [0.1111111111111111, \"#46039f\"], [0.2222222222222222, \"#7201a8\"], [0.3333333333333333, \"#9c179e\"], [0.4444444444444444, \"#bd3786\"], [0.5555555555555556, \"#d8576b\"], [0.6666666666666666, \"#ed7953\"], [0.7777777777777778, \"#fb9f3a\"], [0.8888888888888888, \"#fdca26\"], [1.0, \"#f0f921\"]], \"type\": \"contour\"}], \"contourcarpet\": [{\"colorbar\": {\"outlinewidth\": 0, \"ticks\": \"\"}, \"type\": \"contourcarpet\"}], \"heatmap\": [{\"colorbar\": {\"outlinewidth\": 0, \"ticks\": \"\"}, \"colorscale\": [[0.0, \"#0d0887\"], [0.1111111111111111, \"#46039f\"], [0.2222222222222222, \"#7201a8\"], [0.3333333333333333, \"#9c179e\"], [0.4444444444444444, \"#bd3786\"], [0.5555555555555556, \"#d8576b\"], [0.6666666666666666, \"#ed7953\"], [0.7777777777777778, \"#fb9f3a\"], [0.8888888888888888, \"#fdca26\"], [1.0, \"#f0f921\"]], \"type\": \"heatmap\"}], \"heatmapgl\": [{\"colorbar\": {\"outlinewidth\": 0, \"ticks\": \"\"}, \"colorscale\": [[0.0, \"#0d0887\"], [0.1111111111111111, \"#46039f\"], [0.2222222222222222, \"#7201a8\"], [0.3333333333333333, \"#9c179e\"], [0.4444444444444444, \"#bd3786\"], [0.5555555555555556, \"#d8576b\"], [0.6666666666666666, \"#ed7953\"], [0.7777777777777778, \"#fb9f3a\"], [0.8888888888888888, \"#fdca26\"], [1.0, \"#f0f921\"]], \"type\": \"heatmapgl\"}], \"histogram\": [{\"marker\": {\"colorbar\": {\"outlinewidth\": 0, \"ticks\": \"\"}}, \"type\": \"histogram\"}], \"histogram2d\": [{\"colorbar\": {\"outlinewidth\": 0, \"ticks\": \"\"}, \"colorscale\": [[0.0, \"#0d0887\"], [0.1111111111111111, \"#46039f\"], [0.2222222222222222, \"#7201a8\"], [0.3333333333333333, \"#9c179e\"], [0.4444444444444444, \"#bd3786\"], [0.5555555555555556, \"#d8576b\"], [0.6666666666666666, \"#ed7953\"], [0.7777777777777778, \"#fb9f3a\"], [0.8888888888888888, \"#fdca26\"], [1.0, \"#f0f921\"]], \"type\": \"histogram2d\"}], \"histogram2dcontour\": [{\"colorbar\": {\"outlinewidth\": 0, \"ticks\": \"\"}, \"colorscale\": [[0.0, \"#0d0887\"], [0.1111111111111111, \"#46039f\"], [0.2222222222222222, \"#7201a8\"], [0.3333333333333333, \"#9c179e\"], [0.4444444444444444, \"#bd3786\"], [0.5555555555555556, \"#d8576b\"], [0.6666666666666666, \"#ed7953\"], [0.7777777777777778, \"#fb9f3a\"], [0.8888888888888888, \"#fdca26\"], [1.0, \"#f0f921\"]], \"type\": \"histogram2dcontour\"}], \"mesh3d\": [{\"colorbar\": {\"outlinewidth\": 0, \"ticks\": \"\"}, \"type\": \"mesh3d\"}], \"parcoords\": [{\"line\": {\"colorbar\": {\"outlinewidth\": 0, \"ticks\": \"\"}}, \"type\": \"parcoords\"}], \"pie\": [{\"automargin\": true, \"type\": \"pie\"}], \"scatter\": [{\"marker\": {\"colorbar\": {\"outlinewidth\": 0, \"ticks\": \"\"}}, \"type\": \"scatter\"}], \"scatter3d\": [{\"line\": {\"colorbar\": {\"outlinewidth\": 0, \"ticks\": \"\"}}, \"marker\": {\"colorbar\": {\"outlinewidth\": 0, \"ticks\": \"\"}}, \"type\": \"scatter3d\"}], \"scattercarpet\": [{\"marker\": {\"colorbar\": {\"outlinewidth\": 0, \"ticks\": \"\"}}, \"type\": \"scattercarpet\"}], \"scattergeo\": [{\"marker\": {\"colorbar\": {\"outlinewidth\": 0, \"ticks\": \"\"}}, \"type\": \"scattergeo\"}], \"scattergl\": [{\"marker\": {\"colorbar\": {\"outlinewidth\": 0, \"ticks\": \"\"}}, \"type\": \"scattergl\"}], \"scattermapbox\": [{\"marker\": {\"colorbar\": {\"outlinewidth\": 0, \"ticks\": \"\"}}, \"type\": \"scattermapbox\"}], \"scatterpolar\": [{\"marker\": {\"colorbar\": {\"outlinewidth\": 0, \"ticks\": \"\"}}, \"type\": \"scatterpolar\"}], \"scatterpolargl\": [{\"marker\": {\"colorbar\": {\"outlinewidth\": 0, \"ticks\": \"\"}}, \"type\": \"scatterpolargl\"}], \"scatterternary\": [{\"marker\": {\"colorbar\": {\"outlinewidth\": 0, \"ticks\": \"\"}}, \"type\": \"scatterternary\"}], \"surface\": [{\"colorbar\": {\"outlinewidth\": 0, \"ticks\": \"\"}, \"colorscale\": [[0.0, \"#0d0887\"], [0.1111111111111111, \"#46039f\"], [0.2222222222222222, \"#7201a8\"], [0.3333333333333333, \"#9c179e\"], [0.4444444444444444, \"#bd3786\"], [0.5555555555555556, \"#d8576b\"], [0.6666666666666666, \"#ed7953\"], [0.7777777777777778, \"#fb9f3a\"], [0.8888888888888888, \"#fdca26\"], [1.0, \"#f0f921\"]], \"type\": \"surface\"}], \"table\": [{\"cells\": {\"fill\": {\"color\": \"#EBF0F8\"}, \"line\": {\"color\": \"white\"}}, \"header\": {\"fill\": {\"color\": \"#C8D4E3\"}, \"line\": {\"color\": \"white\"}}, \"type\": \"table\"}]}, \"layout\": {\"annotationdefaults\": {\"arrowcolor\": \"#2a3f5f\", \"arrowhead\": 0, \"arrowwidth\": 1}, \"coloraxis\": {\"colorbar\": {\"outlinewidth\": 0, \"ticks\": \"\"}}, \"colorscale\": {\"diverging\": [[0, \"#8e0152\"], [0.1, \"#c51b7d\"], [0.2, \"#de77ae\"], [0.3, \"#f1b6da\"], [0.4, \"#fde0ef\"], [0.5, \"#f7f7f7\"], [0.6, \"#e6f5d0\"], [0.7, \"#b8e186\"], [0.8, \"#7fbc41\"], [0.9, \"#4d9221\"], [1, \"#276419\"]], \"sequential\": [[0.0, \"#0d0887\"], [0.1111111111111111, \"#46039f\"], [0.2222222222222222, \"#7201a8\"], [0.3333333333333333, \"#9c179e\"], [0.4444444444444444, \"#bd3786\"], [0.5555555555555556, \"#d8576b\"], [0.6666666666666666, \"#ed7953\"], [0.7777777777777778, \"#fb9f3a\"], [0.8888888888888888, \"#fdca26\"], [1.0, \"#f0f921\"]], \"sequentialminus\": [[0.0, \"#0d0887\"], [0.1111111111111111, \"#46039f\"], [0.2222222222222222, \"#7201a8\"], [0.3333333333333333, \"#9c179e\"], [0.4444444444444444, \"#bd3786\"], [0.5555555555555556, \"#d8576b\"], [0.6666666666666666, \"#ed7953\"], [0.7777777777777778, \"#fb9f3a\"], [0.8888888888888888, \"#fdca26\"], [1.0, \"#f0f921\"]]}, \"colorway\": [\"#636efa\", \"#EF553B\", \"#00cc96\", \"#ab63fa\", \"#FFA15A\", \"#19d3f3\", \"#FF6692\", \"#B6E880\", \"#FF97FF\", \"#FECB52\"], \"font\": {\"color\": \"#2a3f5f\"}, \"geo\": {\"bgcolor\": \"white\", \"lakecolor\": \"white\", \"landcolor\": \"#E5ECF6\", \"showlakes\": true, \"showland\": true, \"subunitcolor\": \"white\"}, \"hoverlabel\": {\"align\": \"left\"}, \"hovermode\": \"closest\", \"mapbox\": {\"style\": \"light\"}, \"paper_bgcolor\": \"white\", \"plot_bgcolor\": \"#E5ECF6\", \"polar\": {\"angularaxis\": {\"gridcolor\": \"white\", \"linecolor\": \"white\", \"ticks\": \"\"}, \"bgcolor\": \"#E5ECF6\", \"radialaxis\": {\"gridcolor\": \"white\", \"linecolor\": \"white\", \"ticks\": \"\"}}, \"scene\": {\"xaxis\": {\"backgroundcolor\": \"#E5ECF6\", \"gridcolor\": \"white\", \"gridwidth\": 2, \"linecolor\": \"white\", \"showbackground\": true, \"ticks\": \"\", \"zerolinecolor\": \"white\"}, \"yaxis\": {\"backgroundcolor\": \"#E5ECF6\", \"gridcolor\": \"white\", \"gridwidth\": 2, \"linecolor\": \"white\", \"showbackground\": true, \"ticks\": \"\", \"zerolinecolor\": \"white\"}, \"zaxis\": {\"backgroundcolor\": \"#E5ECF6\", \"gridcolor\": \"white\", \"gridwidth\": 2, \"linecolor\": \"white\", \"showbackground\": true, \"ticks\": \"\", \"zerolinecolor\": \"white\"}}, \"shapedefaults\": {\"line\": {\"color\": \"#2a3f5f\"}}, \"ternary\": {\"aaxis\": {\"gridcolor\": \"white\", \"linecolor\": \"white\", \"ticks\": \"\"}, \"baxis\": {\"gridcolor\": \"white\", \"linecolor\": \"white\", \"ticks\": \"\"}, \"bgcolor\": \"#E5ECF6\", \"caxis\": {\"gridcolor\": \"white\", \"linecolor\": \"white\", \"ticks\": \"\"}}, \"title\": {\"x\": 0.05}, \"xaxis\": {\"automargin\": true, \"gridcolor\": \"white\", \"linecolor\": \"white\", \"ticks\": \"\", \"title\": {\"standoff\": 15}, \"zerolinecolor\": \"white\", \"zerolinewidth\": 2}, \"yaxis\": {\"automargin\": true, \"gridcolor\": \"white\", \"linecolor\": \"white\", \"ticks\": \"\", \"title\": {\"standoff\": 15}, \"zerolinecolor\": \"white\", \"zerolinewidth\": 2}}}},\n",
              "                        {\"responsive\": true}\n",
              "                    ).then(function(){\n",
              "                            \n",
              "var gd = document.getElementById('dd8dc7d0-8394-4807-b139-07e05bd6d2e3');\n",
              "var x = new MutationObserver(function (mutations, observer) {{\n",
              "        var display = window.getComputedStyle(gd).display;\n",
              "        if (!display || display === 'none') {{\n",
              "            console.log([gd, 'removed!']);\n",
              "            Plotly.purge(gd);\n",
              "            observer.disconnect();\n",
              "        }}\n",
              "}});\n",
              "\n",
              "// Listen for the removal of the full notebook cells\n",
              "var notebookContainer = gd.closest('#notebook-container');\n",
              "if (notebookContainer) {{\n",
              "    x.observe(notebookContainer, {childList: true});\n",
              "}}\n",
              "\n",
              "// Listen for the clearing of the current output cell\n",
              "var outputEl = gd.closest('.output');\n",
              "if (outputEl) {{\n",
              "    x.observe(outputEl, {childList: true});\n",
              "}}\n",
              "\n",
              "                        })\n",
              "                };\n",
              "                \n",
              "            </script>\n",
              "        </div>\n",
              "</body>\n",
              "</html>"
            ]
          },
          "metadata": {}
        },
        {
          "output_type": "display_data",
          "data": {
            "image/png": "[encoded data removed]",
            "text/plain": [
              "<Figure size 1200x600 with 1 Axes>"
            ]
          },
          "metadata": {}
        }
      ]
    },
    {
      "cell_type": "markdown",
      "source": [
        "**Lire les données avec Pyspark**"
      ],
      "metadata": {
        "id": "ddNR-6Nv9llf"
      }
    },
    {
      "cell_type": "code",
      "source": [
        "train.to_csv('TweetsCleaned.csv')\n",
        "spark=SparkSession.builder.getOrCreate()\n",
        "df=spark.read.csv('TweetsCleaned.csv',inferSchema=True,header=True)\n",
        "df.show()"
      ],
      "metadata": {
        "id": "Jr7ILHEX-5tR",
        "colab": {
          "base_uri": "https://localhost:8080/"
        },
        "outputId": "58bd9614-2c9a-4a6b-f619-3ea80aa96c38"
      },
      "execution_count": null,
      "outputs": [
        {
          "output_type": "stream",
          "name": "stdout",
          "text": [
            "+--------------------+--------------------+--------------------+--------------------+---------+\n",
            "|                 _c0|            Tweet Id|                Text|             content|sentiment|\n",
            "+--------------------+--------------------+--------------------+--------------------+---------+\n",
            "|                   0| 1365813964756692993|Are you ready to ...|                null|     null|\n",
            "|Each state has it...|                null|                null|                null|     null|\n",
            "|Learn about the C...|['ready', 'rol', ...|                   1|                null|     null|\n",
            "|                   1| 1365813964320501767|\"I've been trying...|['try', 'tweet', ...|       -1|\n",
            "|                   2| 1365813962739179523|U.S. authorizes J...|['u', 'auth', 'jo...|        0|\n",
            "|                   3| 1365813959333318656|The Food and Drug...|                null|     null|\n",
            "|Lets see how Trud...|['food', 'drug', ...|                  -1|                null|     null|\n",
            "|                   4| 1365813958163111938|@AP There’s three...|['ap', 'three', '...|        0|\n",
            "|                   5| 1365813951544623106|\"\"\"FDA grants eme...|['fda', 'grant', ...|        0|\n",
            "|                   6| 1365813925082763266|Johnson &amp; Joh...|['johnson', 'amp'...|        0|\n",
            "|                   8| 1365813878995759108|https://t.co/5CRx...|['co', 'fda', 'is...|        0|\n",
            "|                   9| 1365813869608902658|We have a new #CO...|['new', 'covidvac...|        1|\n",
            "|                  10| 1365813863623651329|\"\"\"FDA grants eme...|['fda', 'grant', ...|        0|\n",
            "|                  11| 1365813862105309184|J&amp;J’s 1-dose ...|                null|     null|\n",
            "|https://t.co/2uCE...|['j', 'amp', 'j',...|                   1|                null|     null|\n",
            "|                  12| 1365813860515643394|\"\"\"FDA grants eme...|['fda', 'grant', ...|        0|\n",
            "|                  13| 1365813855524433924|FDA approves John...|['fda', 'approv',...|        0|\n",
            "|                  14| 1365813850566721544|FDA Issues Emerge...|['fda', 'issu', '...|        0|\n",
            "|                  15| 1365813845667774471|Johnson &amp; Joh...|['johnson', 'amp'...|        0|\n",
            "|                  16| 1365813845437124619|https://t.co/DByd...|['co', 'johnson',...|        1|\n",
            "+--------------------+--------------------+--------------------+--------------------+---------+\n",
            "only showing top 20 rows\n",
            "\n"
          ]
        }
      ]
    },
    {
      "cell_type": "code",
      "source": [
        "#Afin de nettoyer l’ensemble de données, nous devons supprimer toutes les valeurs nulles dans le cadre de données. \n",
        "df1=df.na.drop(how=\"any\")\n",
        "df1.show()"
      ],
      "metadata": {
        "colab": {
          "base_uri": "https://localhost:8080/"
        },
        "id": "KGIkbvkejjZS",
        "outputId": "bf774d46-0a9a-45a6-a139-e9b40b3ea105"
      },
      "execution_count": null,
      "outputs": [
        {
          "output_type": "stream",
          "name": "stdout",
          "text": [
            "+---+-------------------+--------------------+--------------------+---------+\n",
            "|_c0|           Tweet Id|                Text|             content|sentiment|\n",
            "+---+-------------------+--------------------+--------------------+---------+\n",
            "|  1|1365813964320501767|\"I've been trying...|['try', 'tweet', ...|       -1|\n",
            "|  2|1365813962739179523|U.S. authorizes J...|['u', 'auth', 'jo...|        0|\n",
            "|  4|1365813958163111938|@AP There’s three...|['ap', 'three', '...|        0|\n",
            "|  5|1365813951544623106|\"\"\"FDA grants eme...|['fda', 'grant', ...|        0|\n",
            "|  6|1365813925082763266|Johnson &amp; Joh...|['johnson', 'amp'...|        0|\n",
            "|  8|1365813878995759108|https://t.co/5CRx...|['co', 'fda', 'is...|        0|\n",
            "|  9|1365813869608902658|We have a new #CO...|['new', 'covidvac...|        1|\n",
            "| 10|1365813863623651329|\"\"\"FDA grants eme...|['fda', 'grant', ...|        0|\n",
            "| 12|1365813860515643394|\"\"\"FDA grants eme...|['fda', 'grant', ...|        0|\n",
            "| 13|1365813855524433924|FDA approves John...|['fda', 'approv',...|        0|\n",
            "| 14|1365813850566721544|FDA Issues Emerge...|['fda', 'issu', '...|        0|\n",
            "| 15|1365813845667774471|Johnson &amp; Joh...|['johnson', 'amp'...|        0|\n",
            "| 16|1365813845437124619|https://t.co/DByd...|['co', 'johnson',...|        1|\n",
            "| 17|1365813833089097729|FDA authorizes on...|['fda', 'auth', '...|        0|\n",
            "| 20|1365813796535730181|FDA approved the ...|['fda', 'approv',...|        0|\n",
            "| 22|1365813785848655873|Oklahoma has vacc...|['oklahom', 'vacc...|        1|\n",
            "| 23|1365813782883094529|ICYMI, I made a t...|['icym', 'mad', '...|       -1|\n",
            "| 24|1365813776822378498|I’ll bet you anyt...|['bet', 'anyth', ...|        0|\n",
            "| 25|1365813766340960257|Now there are thr...|['three', 'helenb...|        1|\n",
            "| 26|1365813760745762817|@TKarmen7 @SoSoPr...|['sosopriceless',...|        0|\n",
            "+---+-------------------+--------------------+--------------------+---------+\n",
            "only showing top 20 rows\n",
            "\n"
          ]
        }
      ]
    },
    {
      "cell_type": "code",
      "source": [
        "df2=df1.select('content',col(\"sentiment\"))\n",
        "df2.show() "
      ],
      "metadata": {
        "colab": {
          "base_uri": "https://localhost:8080/"
        },
        "id": "8Q-NaxffVZ1Y",
        "outputId": "429f3b2c-6dc0-44b0-e73f-1fa316c606c4"
      },
      "execution_count": null,
      "outputs": [
        {
          "output_type": "stream",
          "name": "stdout",
          "text": [
            "+--------------------+---------+\n",
            "|             content|sentiment|\n",
            "+--------------------+---------+\n",
            "|['try', 'tweet', ...|       -1|\n",
            "|['u', 'auth', 'jo...|        0|\n",
            "|['ap', 'three', '...|        0|\n",
            "|['fda', 'grant', ...|        0|\n",
            "|['johnson', 'amp'...|        0|\n",
            "|['co', 'fda', 'is...|        0|\n",
            "|['new', 'covidvac...|        1|\n",
            "|['fda', 'grant', ...|        0|\n",
            "|['fda', 'grant', ...|        0|\n",
            "|['fda', 'approv',...|        0|\n",
            "|['fda', 'issu', '...|        0|\n",
            "|['johnson', 'amp'...|        0|\n",
            "|['co', 'johnson',...|        1|\n",
            "|['fda', 'auth', '...|        0|\n",
            "|['fda', 'approv',...|        0|\n",
            "|['oklahom', 'vacc...|        1|\n",
            "|['icym', 'mad', '...|       -1|\n",
            "|['bet', 'anyth', ...|        0|\n",
            "|['three', 'helenb...|        1|\n",
            "|['sosopriceless',...|        0|\n",
            "+--------------------+---------+\n",
            "only showing top 20 rows\n",
            "\n"
          ]
        }
      ]
    },
    {
      "cell_type": "code",
      "source": [
        "from pyspark.ml.feature import RegexTokenizer, CountVectorizer\n",
        "# regular expression tokenizer\n",
        "regexTokenizer = RegexTokenizer(inputCol=\"content\", outputCol=\"words\", pattern=\"\\\\W\")\n",
        "\n",
        "# bag of words count\n",
        "countVectors = CountVectorizer(inputCol=\"words\", outputCol=\"features\", vocabSize=20000, minDF=5)"
      ],
      "metadata": {
        "id": "oMYbvic33ELY"
      },
      "execution_count": null,
      "outputs": []
    },
    {
      "cell_type": "code",
      "source": [
        "#sentiment est une colonne avec 3 étiquettes différentes (0 -1 1)\n",
        "label_stringIdx = StringIndexer(inputCol = \"sentiment\", outputCol = \"label\")\n",
        "\n",
        "pipeline = Pipeline(stages=[regexTokenizer, countVectors, label_stringIdx])\n",
        "\n",
        "# Fit the pipeline to training documents.\n",
        "pipelineFit = pipeline.fit(df2)\n",
        "dataset = pipelineFit.transform(df2)\n",
        "dataset.show(5) "
      ],
      "metadata": {
        "id": "bJmlI-pKW5tX",
        "colab": {
          "base_uri": "https://localhost:8080/"
        },
        "outputId": "e363f352-a5fa-4e07-b75f-b61168974b95"
      },
      "execution_count": null,
      "outputs": [
        {
          "output_type": "stream",
          "name": "stdout",
          "text": [
            "+--------------------+---------+--------------------+--------------------+-----+\n",
            "|             content|sentiment|               words|            features|label|\n",
            "+--------------------+---------+--------------------+--------------------+-----+\n",
            "|['try', 'tweet', ...|       -1|[try, tweet, dr, ...|(2134,[0,1,4,42,4...|  2.0|\n",
            "|['u', 'auth', 'jo...|        0|[u, auth, johnson...|(2134,[0,1,2,3,4,...|  0.0|\n",
            "|['ap', 'three', '...|        0|[ap, three, covid...|(2134,[0,1,49,196...|  0.0|\n",
            "|['fda', 'grant', ...|        0|[fda, grant, emer...|(2134,[0,1,2,3,4,...|  0.0|\n",
            "|['johnson', 'amp'...|        0|[johnson, amp, jo...|(2134,[0,1,2,3,4,...|  0.0|\n",
            "+--------------------+---------+--------------------+--------------------+-----+\n",
            "only showing top 5 rows\n",
            "\n"
          ]
        }
      ]
    },
    {
      "cell_type": "markdown",
      "source": [
        "**Partition Training and Test sets**"
      ],
      "metadata": {
        "id": "eZp1-548x4yc"
      }
    },
    {
      "cell_type": "code",
      "source": [
        "(trainingData, testData) = dataset.randomSplit([0.7, 0.3], seed = 100)\n",
        "print(\"Training Dataset Count: \" + str(trainingData.count()))\n",
        "print(\"Test Dataset Count: \" + str(testData.count()))"
      ],
      "metadata": {
        "colab": {
          "base_uri": "https://localhost:8080/"
        },
        "id": "u7r5L8b7ciPM",
        "outputId": "0355ad8c-5935-4e1d-ba3c-07b2a03cf171"
      },
      "execution_count": null,
      "outputs": [
        {
          "output_type": "stream",
          "name": "stdout",
          "text": [
            "Training Dataset Count: 5443\n",
            "Test Dataset Count: 2336\n"
          ]
        }
      ]
    },
    {
      "cell_type": "markdown",
      "source": [
        "**La régression logistique**"
      ],
      "metadata": {
        "id": "GhSko9Q99sB0"
      }
    },
    {
      "cell_type": "code",
      "source": [
        "#logistique regression\n",
        "\n",
        "lr = LogisticRegression(maxIter=20, regParam=0.3, elasticNetParam=0)\n",
        "lrModel = lr.fit(trainingData)\n",
        "\n",
        "predictions = lrModel.transform(testData)\n",
        "\n",
        "predictions.filter(predictions['prediction'] == 0).select(\"content\",\"sentiment\",\"probability\",\"label\",\"prediction\")\\\n",
        ".orderBy(\"probability\", ascending=False).show(n = 10, truncate = 30)"
      ],
      "metadata": {
        "colab": {
          "base_uri": "https://localhost:8080/"
        },
        "id": "bAbbUEwOhMeK",
        "outputId": "577f589f-7b5d-462a-f229-17055edc36c3"
      },
      "execution_count": null,
      "outputs": [
        {
          "output_type": "stream",
          "name": "stdout",
          "text": [
            "+------------------------------+---------+------------------------------+-----+----------+\n",
            "|                       content|sentiment|                   probability|label|prediction|\n",
            "+------------------------------+---------+------------------------------+-----+----------+\n",
            "|['guy', 'put', 'covid', 'va...|        0|[0.9692912696661593,0.00721...|  0.0|       0.0|\n",
            "|['la', 'covid', 'continu', ...|        0|[0.9617298978179727,0.01733...|  0.0|       0.0|\n",
            "|['amahoro', 'thierryu', 'zz...|        0|[0.9562763527838907,0.02766...|  0.0|       0.0|\n",
            "|['marshablackburn', 'mayb',...|       -1|[0.952404467019966,0.010397...|  2.0|       0.0|\n",
            "|['look', 'germany', 'americ...|        0|[0.9431182003844467,0.02868...|  0.0|       0.0|\n",
            "|['beltway', 'insid', 'bid',...|        0|[0.9428546165671369,0.03082...|  0.0|       0.0|\n",
            "|['beltway', 'insid', 'bid',...|        0|[0.9428546165671369,0.03082...|  0.0|       0.0|\n",
            "|['beltway', 'insid', 'bid',...|        0|[0.9428546165671369,0.03082...|  0.0|       0.0|\n",
            "|['nadhimzahaw', 'daviddavis...|        0|[0.942826432243397,0.037575...|  0.0|       0.0|\n",
            "|['tudorgeek', 'steffanymr',...|        0|[0.9420546041908512,0.03413...|  0.0|       0.0|\n",
            "+------------------------------+---------+------------------------------+-----+----------+\n",
            "only showing top 10 rows\n",
            "\n"
          ]
        }
      ]
    },
    {
      "cell_type": "markdown",
      "source": [
        "**Evaluation du modèle**"
      ],
      "metadata": {
        "id": "FZmQDENAM1Tj"
      }
    },
    {
      "cell_type": "code",
      "source": [
        "\n",
        "from pyspark.ml.evaluation import MulticlassClassificationEvaluator\n",
        "\n",
        "#Accuracy\n",
        "model_acc = MulticlassClassificationEvaluator(predictionCol=\"prediction\", metricName=\"accuracy\")\n",
        "print(\"LR classifier Accuracy (test) = %g\" % model_acc.evaluate(predictions))\n",
        "\n",
        "#F1-score\n",
        "model_f1 = MulticlassClassificationEvaluator(predictionCol=\"prediction\", metricName=\"f1\")\n",
        "model_f1.evaluate(predictions) \n",
        "print(\"LR classifier F1 (test) = %g\" % model_f1.evaluate(predictions))\n",
        "\n",
        "#weightedPrecision\n",
        "model_precision = MulticlassClassificationEvaluator(predictionCol=\"prediction\", metricName=\"weightedPrecision\")\n",
        "model_precision.evaluate(predictions) \n",
        "print(\"LR classifier weightedPrecision (test) = %g\" % model_precision.evaluate(predictions))\n",
        "\n",
        "#weightedRecall\n",
        "model_recall = MulticlassClassificationEvaluator(predictionCol=\"prediction\", metricName=\"weightedRecall\")\n",
        "model_recall.evaluate(predictions)\n",
        "print(\"LR classifier weightedRecall (test) = %g\" % model_recall.evaluate(predictions))"
      ],
      "metadata": {
        "colab": {
          "base_uri": "https://localhost:8080/"
        },
        "id": "CmhsFuwr8fwx",
        "outputId": "ab1033df-802a-4ef3-d4c1-abc17167afa6"
      },
      "execution_count": null,
      "outputs": [
        {
          "output_type": "stream",
          "name": "stdout",
          "text": [
            "LR classifier Accuracy (test) = 0.806935\n",
            "LR classifier F1 (test) = 0.791702\n",
            "LR classifier weightedPrecision (test) = 0.80467\n",
            "LR classifier weightedRecall (test) = 0.806935\n"
          ]
        }
      ]
    }
  ]
}