{
 "cells": [
  {
   "cell_type": "code",
   "execution_count": 1,
   "id": "ff66ce0a-1934-4060-8a3d-407be219df92",
   "metadata": {},
   "outputs": [
    {
     "name": "stdout",
     "output_type": "stream",
     "text": [
      "Requirement already satisfied: tweepy==3.10.0 in c:\\users\\manal\\anaconda3\\lib\\site-packages (3.10.0)Note: you may need to restart the kernel to use updated packages.\n",
      "Requirement already satisfied: requests-oauthlib>=0.7.0 in c:\\users\\manal\\anaconda3\\lib\\site-packages (from tweepy==3.10.0) (1.3.0)\n",
      "Requirement already satisfied: requests[socks]>=2.11.1 in c:\\users\\manal\\anaconda3\\lib\\site-packages (from tweepy==3.10.0) (2.26.0)\n",
      "Requirement already satisfied: six>=1.10.0 in c:\\users\\manal\\anaconda3\\lib\\site-packages (from tweepy==3.10.0) (1.16.0)\n",
      "Requirement already satisfied: oauthlib>=3.0.0 in c:\\users\\manal\\anaconda3\\lib\\site-packages (from requests-oauthlib>=0.7.0->tweepy==3.10.0) (3.1.1)\n",
      "Requirement already satisfied: charset-normalizer~=2.0.0 in c:\\users\\manal\\anaconda3\\lib\\site-packages (from requests[socks]>=2.11.1->tweepy==3.10.0) (2.0.4)\n",
      "Requirement already satisfied: urllib3<1.27,>=1.21.1 in c:\\users\\manal\\anaconda3\\lib\\site-packages (from requests[socks]>=2.11.1->tweepy==3.10.0) (1.26.7)\n",
      "Requirement already satisfied: certifi>=2017.4.17 in c:\\users\\manal\\anaconda3\\lib\\site-packages (from requests[socks]>=2.11.1->tweepy==3.10.0) (2021.10.8)\n",
      "Requirement already satisfied: idna<4,>=2.5 in c:\\users\\manal\\anaconda3\\lib\\site-packages (from requests[socks]>=2.11.1->tweepy==3.10.0) (3.2)\n",
      "Requirement already satisfied: PySocks!=1.5.7,>=1.5.6 in c:\\users\\manal\\anaconda3\\lib\\site-packages (from requests[socks]>=2.11.1->tweepy==3.10.0) (1.7.1)\n",
      "\n"
     ]
    }
   ],
   "source": [
    "pip install tweepy==3.10.0"
   ]
  },
  {
   "cell_type": "code",
   "execution_count": 2,
   "id": "fa5acf63-c988-4f67-a103-969406acc4b2",
   "metadata": {},
   "outputs": [
    {
     "name": "stdout",
     "output_type": "stream",
     "text": [
      "Requirement already satisfied: configparser in c:\\users\\manal\\anaconda3\\lib\\site-packages (5.2.0)\n",
      "Note: you may need to restart the kernel to use updated packages.\n"
     ]
    }
   ],
   "source": [
    "pip install configparser"
   ]
  },
  {
   "cell_type": "code",
   "execution_count": 3,
   "id": "05566457-25ec-4d04-a7e8-ac0e4131290d",
   "metadata": {},
   "outputs": [],
   "source": [
    "import tweepy as twitter\n",
    "import configparser\n",
    "\n",
    "\n",
    "# read configs\n",
    "config = configparser.ConfigParser()\n",
    "config.read('config.ini')\n",
    "\n",
    "api_key = config['twitter']['api_key']\n",
    "api_key_secret = config['twitter']['api_key_secret']\n",
    "\n",
    "access_token = config['twitter']['access_token']\n",
    "access_token_secret = config['twitter']['access_token_secret']\n",
    "\n",
    "\n"
   ]
  },
  {
   "cell_type": "code",
   "execution_count": 4,
   "id": "5cab6a6e-8152-4975-a0df-f6bc9a5f6690",
   "metadata": {},
   "outputs": [],
   "source": [
    "# authentication\n",
    "auth = twitter.OAuthHandler(api_key, api_key_secret)\n",
    "auth.set_access_token(access_token, access_token_secret)"
   ]
  },
  {
   "cell_type": "code",
   "execution_count": 5,
   "id": "fe9accfd-2678-4404-b9b9-5b0eb733995c",
   "metadata": {},
   "outputs": [],
   "source": [
    "api = twitter.API(auth, wait_on_rate_limit=True)"
   ]
  },
  {
   "cell_type": "code",
   "execution_count": 6,
   "id": "32cebb15-bd47-4541-9512-0ba789dacbc6",
   "metadata": {},
   "outputs": [
    {
     "name": "stdout",
     "output_type": "stream",
     "text": [
      "COVID19\n",
      "Putin\n",
      "Sputnik\n",
      "вакцинация\n",
      "коронавирус\n",
      "ковид\n",
      "GetVaccinated\n",
      "COVID19Vaccine\n",
      "Covid19MB\n",
      "COVID19\n",
      "Texas\n",
      "Covid19\n"
     ]
    }
   ],
   "source": [
    "hashtag = '#COVID19Vaccine'\n",
    "date = '2022-01-11'\n",
    "tweets = twitter.Cursor(api.search, q=hashtag, lang='en',since=date,  ).items(10)\n",
    "for tweet in tweets:\n",
    "    for i in range(len(tweet.entities.get('hashtags'))):\n",
    "        print(tweet.entities.get('hashtags')[i]['text'])"
   ]
  },
  {
   "cell_type": "code",
   "execution_count": 7,
   "id": "16577c1d-1957-49d5-81fe-1d42b4080de5",
   "metadata": {},
   "outputs": [],
   "source": [
    "tweets = twitter.Cursor(api.search, q=hashtag,lang='en',since=date).items(5000)\n",
    "tweet_data = [[tweet.geo,tweet.text,tweet.user.screen_name,tweet.user.location,tweet.created_at,tweet.entities['hashtags']]for tweet in tweets]"
   ]
  },
  {
   "cell_type": "code",
   "execution_count": 8,
   "id": "406caf00-7809-4262-a354-9dc2b68e30d4",
   "metadata": {},
   "outputs": [],
   "source": [
    "import pandas as pd\n",
    "tweet_df = pd.DataFrame(data=tweet_data,columns=['geo','text','user_name','loc','date','tags'])\n",
    "pd.set_option('max_colwidth',800)"
   ]
  },
  {
   "cell_type": "code",
   "execution_count": 10,
   "id": "34177749-f16f-45bd-afc9-22f631981bee",
   "metadata": {},
   "outputs": [
    {
     "data": {
      "text/html": [
       "<div>\n",
       "<style scoped>\n",
       "    .dataframe tbody tr th:only-of-type {\n",
       "        vertical-align: middle;\n",
       "    }\n",
       "\n",
       "    .dataframe tbody tr th {\n",
       "        vertical-align: top;\n",
       "    }\n",
       "\n",
       "    .dataframe thead th {\n",
       "        text-align: right;\n",
       "    }\n",
       "</style>\n",
       "<table border=\"1\" class=\"dataframe\">\n",
       "  <thead>\n",
       "    <tr style=\"text-align: right;\">\n",
       "      <th></th>\n",
       "      <th>geo</th>\n",
       "      <th>text</th>\n",
       "      <th>user_name</th>\n",
       "      <th>loc</th>\n",
       "      <th>date</th>\n",
       "      <th>tags</th>\n",
       "    </tr>\n",
       "  </thead>\n",
       "  <tbody>\n",
       "    <tr>\n",
       "      <th>0</th>\n",
       "      <td>None</td>\n",
       "      <td>RT @world_tsar: Nobody's gonna know. They're gonna know. How would they know?\\n\\n#COVID19 #Putin #Sputnik #вакцинация #коронавирус #ковид #Ti…</td>\n",
       "      <td>swentol</td>\n",
       "      <td></td>\n",
       "      <td>2022-01-11 22:38:16</td>\n",
       "      <td>[{'text': 'COVID19', 'indices': [79, 87]}, {'text': 'Putin', 'indices': [88, 94]}, {'text': 'Sputnik', 'indices': [95, 103]}, {'text': 'вакцинация', 'indices': [104, 115]}, {'text': 'коронавирус', 'indices': [116, 128]}, {'text': 'ковид', 'indices': [129, 135]}]</td>\n",
       "    </tr>\n",
       "    <tr>\n",
       "      <th>1</th>\n",
       "      <td>None</td>\n",
       "      <td>SHOPPERS DRUG MART Flemingdon Park Plaza in Toronto [Toronto health unit]\\n125 3rd dose Moderna spots added\\nFirst av… https://t.co/bYPaZZoQf4</td>\n",
       "      <td>VaxToronto</td>\n",
       "      <td>Toronto</td>\n",
       "      <td>2022-01-11 22:37:22</td>\n",
       "      <td>[]</td>\n",
       "    </tr>\n",
       "    <tr>\n",
       "      <th>2</th>\n",
       "      <td>None</td>\n",
       "      <td>SHOPPERS DRUG MART Flemingdon Park Plaza in Toronto [Toronto health unit]\\n126 2nd dose Moderna spots added\\nFirst av… https://t.co/j0v7ILyCVq</td>\n",
       "      <td>VaxToronto</td>\n",
       "      <td>Toronto</td>\n",
       "      <td>2022-01-11 22:37:22</td>\n",
       "      <td>[]</td>\n",
       "    </tr>\n",
       "    <tr>\n",
       "      <th>3</th>\n",
       "      <td>None</td>\n",
       "      <td>International Centre in Mississauga [Peel health unit]\\n221 3rd dose Pfizer or Moderna spots added\\nFirst available d… https://t.co/dQLKLN9zlv</td>\n",
       "      <td>VaxPeel</td>\n",
       "      <td></td>\n",
       "      <td>2022-01-11 22:37:18</td>\n",
       "      <td>[]</td>\n",
       "    </tr>\n",
       "    <tr>\n",
       "      <th>4</th>\n",
       "      <td>None</td>\n",
       "      <td>International Centre in Mississauga [Peel health unit]\\n221 2nd dose Pfizer or Moderna spots added\\nFirst available d… https://t.co/N87dhZbSXT</td>\n",
       "      <td>VaxPeel</td>\n",
       "      <td></td>\n",
       "      <td>2022-01-11 22:37:17</td>\n",
       "      <td>[]</td>\n",
       "    </tr>\n",
       "    <tr>\n",
       "      <th>...</th>\n",
       "      <td>...</td>\n",
       "      <td>...</td>\n",
       "      <td>...</td>\n",
       "      <td>...</td>\n",
       "      <td>...</td>\n",
       "      <td>...</td>\n",
       "    </tr>\n",
       "    <tr>\n",
       "      <th>95</th>\n",
       "      <td>None</td>\n",
       "      <td>Shoppers World Danforth in Toronto [Toronto health unit]\\n519 2nd dose Pfizer or Moderna spots added\\nFirst available… https://t.co/1GBhgXaysk</td>\n",
       "      <td>VaxToronto</td>\n",
       "      <td>Toronto</td>\n",
       "      <td>2022-01-11 20:26:39</td>\n",
       "      <td>[]</td>\n",
       "    </tr>\n",
       "    <tr>\n",
       "      <th>96</th>\n",
       "      <td>None</td>\n",
       "      <td>Shoppers World Danforth in Toronto [Toronto health unit]\\n519 1st dose Pfizer or Moderna spots added\\nFirst available… https://t.co/WBfBLj75oW</td>\n",
       "      <td>VaxToronto</td>\n",
       "      <td>Toronto</td>\n",
       "      <td>2022-01-11 20:26:39</td>\n",
       "      <td>[]</td>\n",
       "    </tr>\n",
       "    <tr>\n",
       "      <th>97</th>\n",
       "      <td>None</td>\n",
       "      <td>Shoppers World Danforth in Toronto [Toronto health unit]\\n514 1st dose Pfizer or Moderna spots added\\nFirst available… https://t.co/biD84dCN9s</td>\n",
       "      <td>VaxToronto</td>\n",
       "      <td>Toronto</td>\n",
       "      <td>2022-01-11 20:26:39</td>\n",
       "      <td>[]</td>\n",
       "    </tr>\n",
       "    <tr>\n",
       "      <th>98</th>\n",
       "      <td>None</td>\n",
       "      <td>RT @BellevueHosp: Getting your #COVID19vaccine is extremely simple. And it keeps you safe! Appointments are suggested, but walk-ins are wel…</td>\n",
       "      <td>aibexint</td>\n",
       "      <td>WORLD HQ MONTEVIDEO, URUGUAY</td>\n",
       "      <td>2022-01-11 20:23:52</td>\n",
       "      <td>[{'text': 'COVID19vaccine', 'indices': [31, 46]}]</td>\n",
       "    </tr>\n",
       "    <tr>\n",
       "      <th>99</th>\n",
       "      <td>None</td>\n",
       "      <td>RT @jossreimer: Going to get a #COVID19Vaccine after having #Covid19MB? Good idea, but wait until you are feeling better. There is no need…</td>\n",
       "      <td>colleen_mckenty</td>\n",
       "      <td></td>\n",
       "      <td>2022-01-11 20:15:27</td>\n",
       "      <td>[{'text': 'COVID19Vaccine', 'indices': [31, 46]}, {'text': 'Covid19MB', 'indices': [60, 70]}]</td>\n",
       "    </tr>\n",
       "  </tbody>\n",
       "</table>\n",
       "<p>100 rows × 6 columns</p>\n",
       "</div>"
      ],
      "text/plain": [
       "     geo  \\\n",
       "0   None   \n",
       "1   None   \n",
       "2   None   \n",
       "3   None   \n",
       "4   None   \n",
       "..   ...   \n",
       "95  None   \n",
       "96  None   \n",
       "97  None   \n",
       "98  None   \n",
       "99  None   \n",
       "\n",
       "                                                                                                                                              text  \\\n",
       "0   RT @world_tsar: Nobody's gonna know. They're gonna know. How would they know?\\n\\n#COVID19 #Putin #Sputnik #вакцинация #коронавирус #ковид #Ti…   \n",
       "1   SHOPPERS DRUG MART Flemingdon Park Plaza in Toronto [Toronto health unit]\\n125 3rd dose Moderna spots added\\nFirst av… https://t.co/bYPaZZoQf4   \n",
       "2   SHOPPERS DRUG MART Flemingdon Park Plaza in Toronto [Toronto health unit]\\n126 2nd dose Moderna spots added\\nFirst av… https://t.co/j0v7ILyCVq   \n",
       "3   International Centre in Mississauga [Peel health unit]\\n221 3rd dose Pfizer or Moderna spots added\\nFirst available d… https://t.co/dQLKLN9zlv   \n",
       "4   International Centre in Mississauga [Peel health unit]\\n221 2nd dose Pfizer or Moderna spots added\\nFirst available d… https://t.co/N87dhZbSXT   \n",
       "..                                                                                                                                             ...   \n",
       "95  Shoppers World Danforth in Toronto [Toronto health unit]\\n519 2nd dose Pfizer or Moderna spots added\\nFirst available… https://t.co/1GBhgXaysk   \n",
       "96  Shoppers World Danforth in Toronto [Toronto health unit]\\n519 1st dose Pfizer or Moderna spots added\\nFirst available… https://t.co/WBfBLj75oW   \n",
       "97  Shoppers World Danforth in Toronto [Toronto health unit]\\n514 1st dose Pfizer or Moderna spots added\\nFirst available… https://t.co/biD84dCN9s   \n",
       "98    RT @BellevueHosp: Getting your #COVID19vaccine is extremely simple. And it keeps you safe! Appointments are suggested, but walk-ins are wel…   \n",
       "99     RT @jossreimer: Going to get a #COVID19Vaccine after having #Covid19MB? Good idea, but wait until you are feeling better. There is no need…   \n",
       "\n",
       "          user_name                            loc                date  \\\n",
       "0           swentol                                2022-01-11 22:38:16   \n",
       "1        VaxToronto                        Toronto 2022-01-11 22:37:22   \n",
       "2        VaxToronto                        Toronto 2022-01-11 22:37:22   \n",
       "3           VaxPeel                                2022-01-11 22:37:18   \n",
       "4           VaxPeel                                2022-01-11 22:37:17   \n",
       "..              ...                            ...                 ...   \n",
       "95       VaxToronto                        Toronto 2022-01-11 20:26:39   \n",
       "96       VaxToronto                        Toronto 2022-01-11 20:26:39   \n",
       "97       VaxToronto                        Toronto 2022-01-11 20:26:39   \n",
       "98         aibexint  WORLD HQ MONTEVIDEO, URUGUAY  2022-01-11 20:23:52   \n",
       "99  colleen_mckenty                                2022-01-11 20:15:27   \n",
       "\n",
       "                                                                                                                                                                                                                                                                      tags  \n",
       "0   [{'text': 'COVID19', 'indices': [79, 87]}, {'text': 'Putin', 'indices': [88, 94]}, {'text': 'Sputnik', 'indices': [95, 103]}, {'text': 'вакцинация', 'indices': [104, 115]}, {'text': 'коронавирус', 'indices': [116, 128]}, {'text': 'ковид', 'indices': [129, 135]}]  \n",
       "1                                                                                                                                                                                                                                                                       []  \n",
       "2                                                                                                                                                                                                                                                                       []  \n",
       "3                                                                                                                                                                                                                                                                       []  \n",
       "4                                                                                                                                                                                                                                                                       []  \n",
       "..                                                                                                                                                                                                                                                                     ...  \n",
       "95                                                                                                                                                                                                                                                                      []  \n",
       "96                                                                                                                                                                                                                                                                      []  \n",
       "97                                                                                                                                                                                                                                                                      []  \n",
       "98                                                                                                                                                                                                                       [{'text': 'COVID19vaccine', 'indices': [31, 46]}]  \n",
       "99                                                                                                                                                                           [{'text': 'COVID19Vaccine', 'indices': [31, 46]}, {'text': 'Covid19MB', 'indices': [60, 70]}]  \n",
       "\n",
       "[100 rows x 6 columns]"
      ]
     },
     "execution_count": 10,
     "metadata": {},
     "output_type": "execute_result"
    }
   ],
   "source": [
    "tweet_df.head(100)"
   ]
  },
  {
   "cell_type": "code",
   "execution_count": 11,
   "id": "8659347a-961c-44ce-b7e1-e77658ba9ae3",
   "metadata": {},
   "outputs": [],
   "source": [
    "tweet_df.to_csv('twitter_data.csv')"
   ]
  },
  {
   "cell_type": "code",
   "execution_count": null,
   "id": "857312a5-c538-4834-91ef-e20df7756b85",
   "metadata": {},
   "outputs": [],
   "source": []
  }
 ],
 "metadata": {
  "kernelspec": {
   "display_name": "Python 3 (ipykernel)",
   "language": "python",
   "name": "python3"
  },
  "language_info": {
   "codemirror_mode": {
    "name": "ipython",
    "version": 3
   },
   "file_extension": ".py",
   "mimetype": "text/x-python",
   "name": "python",
   "nbconvert_exporter": "python",
   "pygments_lexer": "ipython3",
   "version": "3.9.7"
  }
 },
 "nbformat": 4,
 "nbformat_minor": 5
}
